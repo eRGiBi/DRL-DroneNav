{
 "cells": [
  {
   "cell_type": "markdown",
   "metadata": {},
   "source": [
    "## Configurations for Colab"
   ]
  },
  {
   "cell_type": "code",
   "execution_count": 1,
   "metadata": {},
   "outputs": [],
   "source": [
    "import sys\n",
    "IN_COLAB = \"google.colab\" in sys.modules\n",
    "\n",
    "if IN_COLAB:\n",
    "    !apt install python-opengl\n",
    "    !apt install ffmpeg\n",
    "    !apt install xvfb\n",
    "    !pip install PyVirtualDisplay==3.0\n",
    "    !pip install gymnasium==0.28.1\n",
    "    from pyvirtualdisplay import Display\n",
    "    \n",
    "    # Start virtual display\n",
    "    dis = Display(visible=0, size=(400, 400))\n",
    "    dis.start()"
   ]
  },
  {
   "cell_type": "markdown",
   "metadata": {},
   "source": [
    "# 01. DQN\n",
    "\n",
    "[V. Mnih et al., \"Human-level control through deep reinforcement learning.\" Nature, 518\n",
    "(7540):529–533, 2015.](https://storage.googleapis.com/deepmind-media/dqn/DQNNaturePaper.pdf)\n",
    "\n",
    "Reinforcement learning is known to be unstable or even to diverge when a nonlinear function approximator such as a neural network is used to represent the action-value (also known as $Q$) function. This instability has several causes: the correlations present in the sequence of observations, the fact that small updates to $Q$ may significantly change the policy and therefore change the data distribution, and the correlations between the action-values ($Q$) and the target values $r + \\gamma \\max_{a'} Q(s', a')$.\n",
    "\n",
    "The authors suggest two key ideas to address these instabilities with a novel variant of Q-learning: Replay buffer and Fixed Q-target.\n",
    "\n",
    "#### Uniformly random sampling from Experience Replay Memory\n",
    "\n",
    "Reinforcement learning agent stores the experiences consecutively in the buffer, so adjacent ($s, a, r, s'$) transitions stored are highly likely to have correlation. To remove this, the agent samples experiences uniformly at random from the pool of stored samples $\\big( (s, a, r, s') \\sim U(D) \\big)$. See sample_batch method of ReplayBuffer class for more details.\n",
    "\n",
    "#### Fixed Q-target\n",
    "\n",
    "DQN uses an iterative update that adjusts the action-values ($Q$) towards target values that are only periodically updated, thereby reducing correlations with the target; if not, it is easily divergy because the target continuously moves. The Q-learning update at iteration $i$ uses the following loss function:\n",
    "\n",
    "$$\n",
    "L_i(\\theta_i) = \\mathbb{E}_{(s,a,r,s') \\sim U(D)} \\big[ \\big( r + \\gamma \\max_{a'} Q(s',a';\\theta_i^-) - Q(s, a; \\theta_i) \\big)^2 \\big]\n",
    "$$\n",
    "\n",
    "in which $\\gamma$ is the discount factor determining the agent’s horizon, $\\theta_i$ are the parameters of the Q-network at iteration $i$ and $\\theta_i^-$ are the network parameters used to compute the target at iteration $i$. The target network parameters $\\theta_i^-$ are only updated with the Q-network parameters ($\\theta_i$) every C steps and are held fixed between individual updates. ($C = 200$ in CartPole-v0)\n",
    "\n",
    "#### For more stability: Gradient clipping\n",
    "\n",
    "The authors also found it helpful to clip the error term from the update $r + \\gamma \\max_{a'} Q(s', a'; \\theta_i^-) - Q(s,a,;\\theta_i)$ to be between -1 and 1. Because the absolute value loss function $|x|$ has a derivative of -1 for all negative values of x and a derivative of 1 for all positive values of x, clipping the squared error to be between -1 and 1 corresponds to using an absolute value loss function for errors outside of the (-1,1) interval. This form of error clipping further improved the stability of the algorithm."
   ]
  },
  {
   "cell_type": "code",
   "execution_count": 2,
   "metadata": {},
   "outputs": [
    {
     "name": "stderr",
     "output_type": "stream",
     "text": [
      "/Users/jinwoo.park/miniforge3/envs/rainbow-is-all-you-need/lib/python3.8/site-packages/tqdm/auto.py:21: TqdmWarning: IProgress not found. Please update jupyter and ipywidgets. See https://ipywidgets.readthedocs.io/en/stable/user_install.html\n",
      "  from .autonotebook import tqdm as notebook_tqdm\n"
     ]
    }
   ],
   "source": [
    "import os\n",
    "from typing import Dict, List, Tuple\n",
    "\n",
    "import gymnasium as gym\n",
    "import matplotlib.pyplot as plt\n",
    "import numpy as np\n",
    "import torch\n",
    "import torch.nn as nn\n",
    "import torch.nn.functional as F\n",
    "import torch.optim as optim\n",
    "from IPython.display import clear_output"
   ]
  },
  {
   "cell_type": "markdown",
   "metadata": {},
   "source": [
    "## Replay buffer\n",
    "\n",
    "Typically, people implement replay buffers with one of the following three data structures:\n",
    "\n",
    "  - collections.deque\n",
    "  - list\n",
    "  - numpy.ndarray\n",
    "  \n",
    "**deque** is very easy to handle once you initialize its maximum length (e.g. deque(maxlen=buffer_size)). However, the indexing operation of deque gets terribly slow as it grows up because it is [internally doubly linked list](https://wiki.python.org/moin/TimeComplexity#collections.deque). On the other hands, **list** is an array, so it is relatively faster than deque when you sample batches at every step. Its amortized cost of  *Get item* is [O(1)](https://wiki.python.org/moin/TimeComplexity#list).\n",
    "\n",
    "Last but not least, let's see **numpy.ndarray**. numpy.ndarray is even faster than list due to the fact that it is [a homogeneous array of fixed-size items](https://docs.scipy.org/doc/numpy/reference/generated/numpy.ndarray.html#numpy.ndarray), so you can get the benefits of [locality of reference](https://en.wikipedia.org/wiki/Locality_of_reference). Whereas list is an array of pointers to objects, even when all of them are of the same type.\n",
    "\n",
    "Here, we are going to implement a replay buffer using numpy.ndarray.\n",
    "\n",
    "\n",
    "Reference: [OpenAI spinning-up](https://github.com/openai/spinningup/blob/master/spinup/algos/sac/sac.py#L10)"
   ]
  },
  {
   "cell_type": "code",
   "execution_count": 3,
   "metadata": {},
   "outputs": [],
   "source": [
    "class ReplayBuffer:\n",
    "    \"\"\"A simple numpy replay buffer.\"\"\"\n",
    "\n",
    "    def __init__(self, obs_dim: int, size: int, batch_size: int = 32):\n",
    "        self.obs_buf = np.zeros([size, obs_dim], dtype=np.float32)\n",
    "        self.next_obs_buf = np.zeros([size, obs_dim], dtype=np.float32)\n",
    "        self.acts_buf = np.zeros([size], dtype=np.float32)\n",
    "        self.rews_buf = np.zeros([size], dtype=np.float32)\n",
    "        self.done_buf = np.zeros(size, dtype=np.float32)\n",
    "        self.max_size, self.batch_size = size, batch_size\n",
    "        self.ptr, self.size, = 0, 0\n",
    "\n",
    "    def store(\n",
    "        self,\n",
    "        obs: np.ndarray,\n",
    "        act: np.ndarray, \n",
    "        rew: float, \n",
    "        next_obs: np.ndarray, \n",
    "        done: bool,\n",
    "    ):\n",
    "        self.obs_buf[self.ptr] = obs\n",
    "        self.next_obs_buf[self.ptr] = next_obs\n",
    "        self.acts_buf[self.ptr] = act\n",
    "        self.rews_buf[self.ptr] = rew\n",
    "        self.done_buf[self.ptr] = done\n",
    "        self.ptr = (self.ptr + 1) % self.max_size\n",
    "        self.size = min(self.size + 1, self.max_size)\n",
    "\n",
    "    def sample_batch(self) -> Dict[str, np.ndarray]:\n",
    "        idxs = np.random.choice(self.size, size=self.batch_size, replace=False)\n",
    "        return dict(obs=self.obs_buf[idxs],\n",
    "                    next_obs=self.next_obs_buf[idxs],\n",
    "                    acts=self.acts_buf[idxs],\n",
    "                    rews=self.rews_buf[idxs],\n",
    "                    done=self.done_buf[idxs])\n",
    "\n",
    "    def __len__(self) -> int:\n",
    "        return self.size"
   ]
  },
  {
   "cell_type": "markdown",
   "metadata": {},
   "source": [
    "## Network\n",
    "\n",
    "We are going to use a simple network architecture with three fully connected layers and two non-linearity functions (ReLU)."
   ]
  },
  {
   "cell_type": "code",
   "execution_count": 4,
   "metadata": {},
   "outputs": [],
   "source": [
    "class Network(nn.Module):\n",
    "    def __init__(self, in_dim: int, out_dim: int):\n",
    "        \"\"\"Initialization.\"\"\"\n",
    "        super(Network, self).__init__()\n",
    "\n",
    "        self.layers = nn.Sequential(\n",
    "            nn.Linear(in_dim, 128), \n",
    "            nn.ReLU(),\n",
    "            nn.Linear(128, 128), \n",
    "            nn.ReLU(), \n",
    "            nn.Linear(128, out_dim)\n",
    "        )\n",
    "\n",
    "    def forward(self, x: torch.Tensor) -> torch.Tensor:\n",
    "        \"\"\"Forward method implementation.\"\"\"\n",
    "        return self.layers(x)"
   ]
  },
  {
   "cell_type": "markdown",
   "metadata": {},
   "source": [
    "## DQN Agent\n",
    "\n",
    "Here is a summary of DQNAgent class.\n",
    "\n",
    "| Method           | Note                                                 |\n",
    "| ---              | ---                                                  |\n",
    "|select_action     | select an action from the input state.               |\n",
    "|step              | take an action and return the response of the env.   |\n",
    "|compute_dqn_loss  | return dqn loss.                                     |\n",
    "|update_model      | update the model by gradient descent.                |\n",
    "|target_hard_update| hard update from the local model to the target model.|\n",
    "|train             | train the agent during num_frames.                   |\n",
    "|test              | test the agent (1 episode).                          |\n",
    "|plot              | plot the training progresses.                        |\n"
   ]
  },
  {
   "cell_type": "code",
   "execution_count": 5,
   "metadata": {},
   "outputs": [],
   "source": [
    "class DQNAgent:\n",
    "    \"\"\"DQN Agent interacting with environment.\n",
    "    \n",
    "    Attribute:\n",
    "        env (gym.Env): openAI Gym environment\n",
    "        memory (ReplayBuffer): replay memory to store transitions\n",
    "        batch_size (int): batch size for sampling\n",
    "        epsilon (float): parameter for epsilon greedy policy\n",
    "        epsilon_decay (float): step size to decrease epsilon\n",
    "        max_epsilon (float): max value of epsilon\n",
    "        min_epsilon (float): min value of epsilon\n",
    "        target_update (int): period for target model's hard update\n",
    "        gamma (float): discount factor\n",
    "        dqn (Network): model to train and select actions\n",
    "        dqn_target (Network): target model to update\n",
    "        optimizer (torch.optim): optimizer for training dqn\n",
    "        transition (list): transition information including \n",
    "                           state, action, reward, next_state, done\n",
    "    \"\"\"\n",
    "\n",
    "    def __init__(\n",
    "        self, \n",
    "        env: gym.Env,\n",
    "        memory_size: int,\n",
    "        batch_size: int,\n",
    "        target_update: int,\n",
    "        epsilon_decay: float,\n",
    "        seed: int,\n",
    "        max_epsilon: float = 1.0,\n",
    "        min_epsilon: float = 0.1,\n",
    "        gamma: float = 0.99,\n",
    "    ):\n",
    "        \"\"\"Initialization.\n",
    "        \n",
    "        Args:\n",
    "            env (gym.Env): openAI Gym environment\n",
    "            memory_size (int): length of memory\n",
    "            batch_size (int): batch size for sampling\n",
    "            target_update (int): period for target model's hard update\n",
    "            epsilon_decay (float): step size to decrease epsilon\n",
    "            lr (float): learning rate\n",
    "            max_epsilon (float): max value of epsilon\n",
    "            min_epsilon (float): min value of epsilon\n",
    "            gamma (float): discount factor\n",
    "        \"\"\"\n",
    "        obs_dim = env.observation_space.shape[0]\n",
    "        action_dim = env.action_space.n\n",
    "        \n",
    "        self.env = env\n",
    "        self.memory = ReplayBuffer(obs_dim, memory_size, batch_size)\n",
    "        self.batch_size = batch_size\n",
    "        self.epsilon = max_epsilon\n",
    "        self.epsilon_decay = epsilon_decay\n",
    "        self.seed = seed\n",
    "        self.max_epsilon = max_epsilon\n",
    "        self.min_epsilon = min_epsilon\n",
    "        self.target_update = target_update\n",
    "        self.gamma = gamma\n",
    "        \n",
    "        # device: cpu / gpu\n",
    "        self.device = torch.device(\n",
    "            \"cuda\" if torch.cuda.is_available() else \"cpu\"\n",
    "        )\n",
    "        print(self.device)\n",
    "\n",
    "        # networks: dqn, dqn_target\n",
    "        self.dqn = Network(obs_dim, action_dim).to(self.device)\n",
    "        self.dqn_target = Network(obs_dim, action_dim).to(self.device)\n",
    "        self.dqn_target.load_state_dict(self.dqn.state_dict())\n",
    "        self.dqn_target.eval()\n",
    "        \n",
    "        # optimizer\n",
    "        self.optimizer = optim.Adam(self.dqn.parameters())\n",
    "\n",
    "        # transition to store in memory\n",
    "        self.transition = list()\n",
    "        \n",
    "        # mode: train / test\n",
    "        self.is_test = False\n",
    "\n",
    "    def select_action(self, state: np.ndarray) -> np.ndarray:\n",
    "        \"\"\"Select an action from the input state.\"\"\"\n",
    "        # epsilon greedy policy\n",
    "        if self.epsilon > np.random.random():\n",
    "            selected_action = self.env.action_space.sample()\n",
    "        else:\n",
    "            selected_action = self.dqn(\n",
    "                torch.FloatTensor(state).to(self.device)\n",
    "            ).argmax()\n",
    "            selected_action = selected_action.detach().cpu().numpy()\n",
    "        \n",
    "        if not self.is_test:\n",
    "            self.transition = [state, selected_action]\n",
    "        \n",
    "        return selected_action\n",
    "\n",
    "    def step(self, action: np.ndarray) -> Tuple[np.ndarray, np.float64, bool]:\n",
    "        \"\"\"Take an action and return the response of the env.\"\"\"\n",
    "        next_state, reward, terminated, truncated, _ = self.env.step(action)\n",
    "        done = terminated or truncated\n",
    "\n",
    "        if not self.is_test:\n",
    "            self.transition += [reward, next_state, done]\n",
    "            self.memory.store(*self.transition)\n",
    "    \n",
    "        return next_state, reward, done\n",
    "\n",
    "    def update_model(self) -> torch.Tensor:\n",
    "        \"\"\"Update the model by gradient descent.\"\"\"\n",
    "        samples = self.memory.sample_batch()\n",
    "\n",
    "        loss = self._compute_dqn_loss(samples)\n",
    "\n",
    "        self.optimizer.zero_grad()\n",
    "        loss.backward()\n",
    "        self.optimizer.step()\n",
    "\n",
    "        return loss.item()\n",
    "        \n",
    "    def train(self, num_frames: int, plotting_interval: int = 200):\n",
    "        \"\"\"Train the agent.\"\"\"\n",
    "        self.is_test = False\n",
    "        \n",
    "        state, _ = self.env.reset(seed=self.seed)\n",
    "        update_cnt = 0\n",
    "        epsilons = []\n",
    "        losses = []\n",
    "        scores = []\n",
    "        score = 0\n",
    "\n",
    "        for frame_idx in range(1, num_frames + 1):\n",
    "            action = self.select_action(state)\n",
    "            next_state, reward, done = self.step(action)\n",
    "\n",
    "            state = next_state\n",
    "            score += reward\n",
    "\n",
    "            # if episode ends\n",
    "            if done:\n",
    "                state, _ = self.env.reset(seed=self.seed)\n",
    "                scores.append(score)\n",
    "                score = 0\n",
    "\n",
    "            # if training is ready\n",
    "            if len(self.memory) >= self.batch_size:\n",
    "                loss = self.update_model()\n",
    "                losses.append(loss)\n",
    "                update_cnt += 1\n",
    "                \n",
    "                # linearly decrease epsilon\n",
    "                self.epsilon = max(\n",
    "                    self.min_epsilon, self.epsilon - (\n",
    "                        self.max_epsilon - self.min_epsilon\n",
    "                    ) * self.epsilon_decay\n",
    "                )\n",
    "                epsilons.append(self.epsilon)\n",
    "                \n",
    "                # if hard update is needed\n",
    "                if update_cnt % self.target_update == 0:\n",
    "                    self._target_hard_update()\n",
    "\n",
    "            # plotting\n",
    "            if frame_idx % plotting_interval == 0:\n",
    "                self._plot(frame_idx, scores, losses, epsilons)\n",
    "                \n",
    "        self.env.close()\n",
    "                \n",
    "    def test(self, video_folder: str) -> None:\n",
    "        \"\"\"Test the agent.\"\"\"\n",
    "        self.is_test = True\n",
    "        \n",
    "        # for recording a video\n",
    "        naive_env = self.env\n",
    "        self.env = gym.wrappers.RecordVideo(self.env, video_folder=video_folder)\n",
    "        \n",
    "        state, _ = self.env.reset(seed=self.seed)\n",
    "        done = False\n",
    "        score = 0\n",
    "        \n",
    "        while not done:\n",
    "            action = self.select_action(state)\n",
    "            next_state, reward, done = self.step(action)\n",
    "\n",
    "            state = next_state\n",
    "            score += reward\n",
    "        \n",
    "        print(\"score: \", score)\n",
    "        self.env.close()\n",
    "        \n",
    "        # reset\n",
    "        self.env = naive_env\n",
    "\n",
    "    def _compute_dqn_loss(self, samples: Dict[str, np.ndarray]) -> torch.Tensor:\n",
    "        \"\"\"Return dqn loss.\"\"\"\n",
    "        device = self.device  # for shortening the following lines\n",
    "        state = torch.FloatTensor(samples[\"obs\"]).to(device)\n",
    "        next_state = torch.FloatTensor(samples[\"next_obs\"]).to(device)\n",
    "        action = torch.LongTensor(samples[\"acts\"].reshape(-1, 1)).to(device)\n",
    "        reward = torch.FloatTensor(samples[\"rews\"].reshape(-1, 1)).to(device)\n",
    "        done = torch.FloatTensor(samples[\"done\"].reshape(-1, 1)).to(device)\n",
    "\n",
    "        # G_t   = r + gamma * v(s_{t+1})  if state != Terminal\n",
    "        #       = r                       otherwise\n",
    "        curr_q_value = self.dqn(state).gather(1, action)\n",
    "        next_q_value = self.dqn_target(\n",
    "            next_state\n",
    "        ).max(dim=1, keepdim=True)[0].detach()\n",
    "        mask = 1 - done\n",
    "        target = (reward + self.gamma * next_q_value * mask).to(self.device)\n",
    "\n",
    "        # calculate dqn loss\n",
    "        loss = F.smooth_l1_loss(curr_q_value, target)\n",
    "\n",
    "        return loss\n",
    "\n",
    "    def _target_hard_update(self):\n",
    "        \"\"\"Hard update: target <- local.\"\"\"\n",
    "        self.dqn_target.load_state_dict(self.dqn.state_dict())\n",
    "                \n",
    "    def _plot(\n",
    "        self, \n",
    "        frame_idx: int, \n",
    "        scores: List[float], \n",
    "        losses: List[float], \n",
    "        epsilons: List[float],\n",
    "    ):\n",
    "        \"\"\"Plot the training progresses.\"\"\"\n",
    "        clear_output(True)\n",
    "        plt.figure(figsize=(20, 5))\n",
    "        plt.subplot(131)\n",
    "        plt.title('frame %s. score: %s' % (frame_idx, np.mean(scores[-10:])))\n",
    "        plt.plot(scores)\n",
    "        plt.subplot(132)\n",
    "        plt.title('loss')\n",
    "        plt.plot(losses)\n",
    "        plt.subplot(133)\n",
    "        plt.title('epsilons')\n",
    "        plt.plot(epsilons)\n",
    "        plt.show()"
   ]
  },
  {
   "cell_type": "markdown",
   "metadata": {},
   "source": [
    "## Environment\n",
    "\n",
    "You can see the [code](https://github.com/Farama-Foundation/Gymnasium/blob/main/gymnasium/envs/classic_control/cartpole.py) and [configurations](https://github.com/Farama-Foundation/Gymnasium/blob/main/gymnasium/envs/classic_control/cartpole.py#L91) of CartPole-v1 from Farama Gymnasium's repository."
   ]
  },
  {
   "cell_type": "code",
   "execution_count": 6,
   "metadata": {},
   "outputs": [],
   "source": [
    "# environment\n",
    "env = gym.make(\"CartPole-v1\", max_episode_steps=200, render_mode=\"rgb_array\")"
   ]
  },
  {
   "cell_type": "markdown",
   "metadata": {},
   "source": [
    "## Set random seed"
   ]
  },
  {
   "cell_type": "code",
   "execution_count": 7,
   "metadata": {},
   "outputs": [],
   "source": [
    "seed = 777\n",
    "\n",
    "def seed_torch(seed):\n",
    "    torch.manual_seed(seed)\n",
    "    if torch.backends.cudnn.enabled:\n",
    "        torch.cuda.manual_seed(seed)\n",
    "        torch.backends.cudnn.benchmark = False\n",
    "        torch.backends.cudnn.deterministic = True\n",
    "\n",
    "np.random.seed(seed)\n",
    "seed_torch(seed)"
   ]
  },
  {
   "cell_type": "markdown",
   "metadata": {},
   "source": [
    "## Initialize"
   ]
  },
  {
   "cell_type": "code",
   "execution_count": 8,
   "metadata": {},
   "outputs": [
    {
     "name": "stdout",
     "output_type": "stream",
     "text": [
      "cpu\n"
     ]
    }
   ],
   "source": [
    "# parameters\n",
    "num_frames = 10000\n",
    "memory_size = 1000\n",
    "batch_size = 32\n",
    "target_update = 100\n",
    "epsilon_decay = 1 / 2000\n",
    "\n",
    "agent = DQNAgent(env, memory_size, batch_size, target_update, epsilon_decay, seed)"
   ]
  },
  {
   "cell_type": "markdown",
   "metadata": {},
   "source": [
    "## Train"
   ]
  },
  {
   "cell_type": "code",
   "execution_count": 9,
   "metadata": {},
   "outputs": [
    {
     "data": {
      "image/png": "[encoded data removed]",
      "text/plain": [
       "<Figure size 1440x360 with 3 Axes>"
      ]
     },
     "metadata": {
      "needs_background": "light"
     },
     "output_type": "display_data"
    }
   ],
   "source": [
    "agent.train(num_frames)"
   ]
  },
  {
   "cell_type": "markdown",
   "metadata": {},
   "source": [
    "## Test\n",
    "\n",
    "Run the trained agent (1 episode)."
   ]
  },
  {
   "cell_type": "code",
   "execution_count": 10,
   "metadata": {},
   "outputs": [
    {
     "name": "stdout",
     "output_type": "stream",
     "text": [
      "Moviepy - Building video /Users/jinwoo.park/Repositories/rainbow-is-all-you-need/videos/dqn/rl-video-episode-0.mp4.\n",
      "Moviepy - Writing video /Users/jinwoo.park/Repositories/rainbow-is-all-you-need/videos/dqn/rl-video-episode-0.mp4\n",
      "\n"
     ]
    },
    {
     "name": "stderr",
     "output_type": "stream",
     "text": [
      "                                                                                                               "
     ]
    },
    {
     "name": "stdout",
     "output_type": "stream",
     "text": [
      "Moviepy - Done !\n",
      "Moviepy - video ready /Users/jinwoo.park/Repositories/rainbow-is-all-you-need/videos/dqn/rl-video-episode-0.mp4\n",
      "score:  179.0\n"
     ]
    },
    {
     "name": "stderr",
     "output_type": "stream",
     "text": [
      "\r"
     ]
    }
   ],
   "source": [
    "video_folder=\"videos/dqn\"\n",
    "agent.test(video_folder=video_folder)"
   ]
  },
  {
   "cell_type": "markdown",
   "metadata": {},
   "source": [
    "## Render"
   ]
  },
  {
   "cell_type": "code",
   "execution_count": 11,
   "metadata": {},
   "outputs": [
    {
     "data": {
      "text/html": [
       "\n",
       "        <video width=\"320\" height=\"240\" alt=\"test\" controls>\n",
       "        <source src=\"data:video/mp4;base64,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\" type=\"video/mp4\"/>\n",
       "        </video>\n",
       "        "
      ],
      "text/plain": [
       "<IPython.core.display.HTML object>"
      ]
     },
     "metadata": {},
     "output_type": "display_data"
    },
    {
     "name": "stdout",
     "output_type": "stream",
     "text": [
      "Played: videos/dqn/rl-video-episode-0.mp4\n"
     ]
    }
   ],
   "source": [
    "import base64\n",
    "import glob\n",
    "import io\n",
    "import os\n",
    "\n",
    "from IPython.display import HTML, display\n",
    "\n",
    "\n",
    "def ipython_show_video(path: str) -> None:\n",
    "    \"\"\"Show a video at `path` within IPython Notebook.\"\"\"\n",
    "    if not os.path.isfile(path):\n",
    "        raise NameError(\"Cannot access: {}\".format(path))\n",
    "\n",
    "    video = io.open(path, \"r+b\").read()\n",
    "    encoded = base64.b64encode(video)\n",
    "\n",
    "    display(HTML(\n",
    "        data=\"\"\"\n",
    "        <video width=\"320\" height=\"240\" alt=\"test\" controls>\n",
    "        <source src=\"data:video/mp4;base64,{0}\" type=\"video/mp4\"/>\n",
    "        </video>\n",
    "        \"\"\".format(encoded.decode(\"ascii\"))\n",
    "    ))\n",
    "\n",
    "\n",
    "def show_latest_video(video_folder: str) -> str:\n",
    "    \"\"\"Show the most recently recorded video from video folder.\"\"\"\n",
    "    list_of_files = glob.glob(os.path.join(video_folder, \"*.mp4\"))\n",
    "    latest_file = max(list_of_files, key=os.path.getctime)\n",
    "    ipython_show_video(latest_file)\n",
    "    return latest_file\n",
    "\n",
    "\n",
    "latest_file = show_latest_video(video_folder=video_folder)\n",
    "print(\"Played:\", latest_file)"
   ]
  }
 ],
 "metadata": {
  "kernelspec": {
   "display_name": "rainbow-is-all-you-need",
   "language": "python",
   "name": "rainbow-is-all-you-need"
  },
  "language_info": {
   "codemirror_mode": {
    "name": "ipython",
    "version": 3
   },
   "file_extension": ".py",
   "mimetype": "text/x-python",
   "name": "python",
   "nbconvert_exporter": "python",
   "pygments_lexer": "ipython3",
   "version": "3.8.12"
  }
 },
 "nbformat": 4,
 "nbformat_minor": 1
}
