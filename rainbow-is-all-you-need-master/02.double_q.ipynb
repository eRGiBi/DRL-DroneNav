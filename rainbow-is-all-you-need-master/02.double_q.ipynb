{
 "cells": [
  {
   "cell_type": "markdown",
   "metadata": {},
   "source": [
    "## Configurations for Colab"
   ]
  },
  {
   "cell_type": "code",
   "execution_count": 1,
   "metadata": {},
   "outputs": [],
   "source": [
    "import sys\n",
    "IN_COLAB = \"google.colab\" in sys.modules\n",
    "\n",
    "if IN_COLAB:\n",
    "    !apt install python-opengl\n",
    "    !apt install ffmpeg\n",
    "    !apt install xvfb\n",
    "    !pip install PyVirtualDisplay==3.0\n",
    "    !pip install gymnasium==0.28.1\n",
    "    from pyvirtualdisplay import Display\n",
    "    \n",
    "    # Start virtual display\n",
    "    dis = Display(visible=0, size=(400, 400))\n",
    "    dis.start()"
   ]
  },
  {
   "cell_type": "markdown",
   "metadata": {},
   "source": [
    "# 02. Double DQN\n",
    "\n",
    "[van Hasselt et al., \"Deep Reinforcement Learning with Double Q-learning.\" arXiv preprint arXiv:1509.06461, 2015.](https://arxiv.org/pdf/1509.06461.pdf)\n",
    "\n",
    "\n",
    "\n",
    "\n",
    "Let's take a close look at the difference between DQN and Double-DQN. The max operator in standard Q-learning and DQN uses the same values both to select and to evaluate an action. This makes it more likely to select overestimated values, resulting in overoptimistic value estimates.\n",
    "\n",
    "$$\n",
    "\\theta_{t+1} = \\theta_t + \\alpha \\big(Y_t^Q - Q(S_t, A_t; \\theta_t)\\big) \\cdot \\nabla_{\\theta_t} Q(S_t, A_t; \\theta_t),\\\\\n",
    "\\text{where } \\alpha \\text{ is a scalar step size and the target } Y_t^Q \\text{is defined as }\\\\\n",
    "Y_t^Q = R_{t+1} + \\gamma \\max_a Q(S_{t+1}, a; \\theta_t).\n",
    "$$\n",
    "\n",
    "In Double Q-learning ([van Hasselt 2010](https://papers.nips.cc/paper/3964-double-q-learning.pdf)), two value functions are learned by assigning experiences randomly to update one of the two value functions, resulting in two sets of weights, $\\theta$ and $\\theta'$. For each update, one set of weights is used to determine the greedy policy and the other to determine its value. For a clear comparison, we can untangle the selection and evaluation in Q-learning and rewrite DQN's target as\n",
    "\n",
    "$$\n",
    "Y_t^Q = R_{t+1} + \\gamma Q(S_{t+1}, \\arg\\max_a Q(S_{t+1}, a; \\theta_t); \\theta_t).\n",
    "$$\n",
    "\n",
    "The Double Q-learning error can then be written as\n",
    "\n",
    "$$\n",
    "Y_t^{DoubleQ} = R_{t+1} + \\gamma Q(S_{t+1}, \\arg\\max_a Q(S_{t+1}, a; \\theta_t); \\theta_t').\n",
    "$$\n",
    "\n",
    "The idea of Double Q-learning is to reduce overestimations by decomposing the max operation in the target into action selection and action evaluation. Although not fully decoupled, the target network in the DQN architecture provides a natural candidate for the second value function, without having to introduce additional networks. In conclusion, the weights of the second network $\\theta_t'$ are replaced with the weights of the target network for the evaluation of the current greedy policy. This makes just a small change in calculating the target value of DQN loss.\n",
    "\n",
    "##### DQN:\n",
    "\n",
    "```\n",
    "target = reward + gamma * dqn_target(next_state).max(dim=1, keepdim=True)[0]\n",
    "```\n",
    "\n",
    "##### DoubleDQN:\n",
    "\n",
    "```\n",
    "selected_action = dqn(next_state).argmax(dim=1, keepdim=True)\n",
    "target = reward + gamma * dqn_target(next_state).gather(1, selected_action)\n",
    "```\n",
    "      "
   ]
  },
  {
   "cell_type": "code",
   "execution_count": 2,
   "metadata": {},
   "outputs": [
    {
     "name": "stderr",
     "output_type": "stream",
     "text": [
      "/Users/jinwoo.park/miniforge3/envs/rainbow-is-all-you-need/lib/python3.8/site-packages/tqdm/auto.py:21: TqdmWarning: IProgress not found. Please update jupyter and ipywidgets. See https://ipywidgets.readthedocs.io/en/stable/user_install.html\n",
      "  from .autonotebook import tqdm as notebook_tqdm\n"
     ]
    }
   ],
   "source": [
    "import os\n",
    "from typing import Dict, List, Tuple\n",
    "\n",
    "import gymnasium as gym\n",
    "import matplotlib.pyplot as plt\n",
    "import numpy as np\n",
    "import torch\n",
    "import torch.nn as nn\n",
    "import torch.nn.functional as F\n",
    "import torch.optim as optim\n",
    "from IPython.display import clear_output"
   ]
  },
  {
   "cell_type": "markdown",
   "metadata": {},
   "source": [
    "## Replay buffer\n",
    "\n",
    "Please see *01.dqn.ipynb* for detailed description."
   ]
  },
  {
   "cell_type": "code",
   "execution_count": 3,
   "metadata": {},
   "outputs": [],
   "source": [
    "class ReplayBuffer:\n",
    "    \"\"\"A simple numpy replay buffer.\"\"\"\n",
    "\n",
    "    def __init__(self, obs_dim: int, size: int, batch_size: int = 32):\n",
    "        self.obs_buf = np.zeros([size, obs_dim], dtype=np.float32)\n",
    "        self.next_obs_buf = np.zeros([size, obs_dim], dtype=np.float32)\n",
    "        self.acts_buf = np.zeros([size], dtype=np.float32)\n",
    "        self.rews_buf = np.zeros([size], dtype=np.float32)\n",
    "        self.done_buf = np.zeros(size, dtype=np.float32)\n",
    "        self.max_size, self.batch_size = size, batch_size\n",
    "        self.ptr, self.size, = 0, 0\n",
    "\n",
    "    def store(\n",
    "        self,\n",
    "        obs: np.ndarray,\n",
    "        act: np.ndarray, \n",
    "        rew: float, \n",
    "        next_obs: np.ndarray, \n",
    "        done: bool,\n",
    "    ):\n",
    "        self.obs_buf[self.ptr] = obs\n",
    "        self.next_obs_buf[self.ptr] = next_obs\n",
    "        self.acts_buf[self.ptr] = act\n",
    "        self.rews_buf[self.ptr] = rew\n",
    "        self.done_buf[self.ptr] = done\n",
    "        self.ptr = (self.ptr + 1) % self.max_size\n",
    "        self.size = min(self.size + 1, self.max_size)\n",
    "\n",
    "    def sample_batch(self) -> Dict[str, np.ndarray]:\n",
    "        idxs = np.random.choice(self.size, size=self.batch_size, replace=False)\n",
    "        return dict(obs=self.obs_buf[idxs],\n",
    "                    next_obs=self.next_obs_buf[idxs],\n",
    "                    acts=self.acts_buf[idxs],\n",
    "                    rews=self.rews_buf[idxs],\n",
    "                    done=self.done_buf[idxs])\n",
    "\n",
    "    def __len__(self) -> int:\n",
    "        return self.size"
   ]
  },
  {
   "cell_type": "markdown",
   "metadata": {},
   "source": [
    "## Network\n",
    "\n",
    "We are going to use a simple network architecture with three fully connected layers and two non-linearity functions (ReLU)."
   ]
  },
  {
   "cell_type": "code",
   "execution_count": 4,
   "metadata": {},
   "outputs": [],
   "source": [
    "class Network(nn.Module):\n",
    "    def __init__(self, in_dim: int, out_dim: int):\n",
    "        \"\"\"Initialization.\"\"\"\n",
    "        super(Network, self).__init__()\n",
    "\n",
    "        self.layers = nn.Sequential(\n",
    "            nn.Linear(in_dim, 128), \n",
    "            nn.ReLU(),\n",
    "            nn.Linear(128, 128), \n",
    "            nn.ReLU(), \n",
    "            nn.Linear(128, out_dim)\n",
    "        )\n",
    "\n",
    "    def forward(self, x: torch.Tensor) -> torch.Tensor:\n",
    "        \"\"\"Forward method implementation.\"\"\"\n",
    "        return self.layers(x)"
   ]
  },
  {
   "cell_type": "markdown",
   "metadata": {},
   "source": [
    "## Double DQN Agent\n",
    "\n",
    "Here is a summary of DQNAgent class.\n",
    "\n",
    "| Method           | Note                                                 |\n",
    "| ---              | ---                                                  |\n",
    "|select_action     | select an action from the input state.               |\n",
    "|step              | take an action and return the response of the env.   |\n",
    "|compute_dqn_loss  | return dqn loss.                                     |\n",
    "|update_model      | update the model by gradient descent.                |\n",
    "|target_hard_update| hard update from the local model to the target model.|\n",
    "|train             | train the agent during num_frames.                   |\n",
    "|test              | test the agent (1 episode).                          |\n",
    "|plot              | plot the training progresses.                        |\n",
    "\n",
    "We use `self.dqn` instead of `self.dqn_target` for action selection.\n",
    "\n",
    "```\n",
    "\n",
    "        next_q_value = self.dqn_target(next_state).gather(\n",
    "            1, self.dqn(next_state).argmax(dim=1, keepdim=True)  # Double DQN\n",
    "        ).detach()\n",
    "        mask = 1 - done\n",
    "        target = (reward + self.gamma * next_q_value * mask).to(self.device)\n",
    "```"
   ]
  },
  {
   "cell_type": "code",
   "execution_count": 5,
   "metadata": {},
   "outputs": [],
   "source": [
    "class DQNAgent:\n",
    "    \"\"\"DQN Agent interacting with environment.\n",
    "    \n",
    "    Attribute:\n",
    "        env (gym.Env): openAI Gym environment\n",
    "        memory (ReplayBuffer): replay memory to store transitions\n",
    "        batch_size (int): batch size for sampling\n",
    "        epsilon (float): parameter for epsilon greedy policy\n",
    "        epsilon_decay (float): step size to decrease epsilon\n",
    "        max_epsilon (float): max value of epsilon\n",
    "        min_epsilon (float): min value of epsilon\n",
    "        target_update (int): period for target model's hard update\n",
    "        gamma (float): discount factor\n",
    "        dqn (Network): model to train and select actions\n",
    "        dqn_target (Network): target model to update\n",
    "        optimizer (torch.optim): optimizer for training dqn\n",
    "        transition (list): transition information including \n",
    "                           state, action, reward, next_state, done\n",
    "    \"\"\"\n",
    "\n",
    "    def __init__(\n",
    "        self, \n",
    "        env: gym.Env,\n",
    "        memory_size: int,\n",
    "        batch_size: int,\n",
    "        target_update: int,\n",
    "        epsilon_decay: float,\n",
    "        seed: int,\n",
    "        max_epsilon: float = 1.0,\n",
    "        min_epsilon: float = 0.1,\n",
    "        gamma: float = 0.99,\n",
    "    ):\n",
    "        \"\"\"Initialization.\n",
    "        \n",
    "        Args:\n",
    "            env (gym.Env): openAI Gym environment\n",
    "            memory_size (int): length of memory\n",
    "            batch_size (int): batch size for sampling\n",
    "            target_update (int): period for target model's hard update\n",
    "            epsilon_decay (float): step size to decrease epsilon\n",
    "            lr (float): learning rate\n",
    "            max_epsilon (float): max value of epsilon\n",
    "            min_epsilon (float): min value of epsilon\n",
    "            gamma (float): discount factor\n",
    "        \"\"\"\n",
    "        obs_dim = env.observation_space.shape[0]\n",
    "        action_dim = env.action_space.n\n",
    "        \n",
    "        self.env = env\n",
    "        self.memory = ReplayBuffer(obs_dim, memory_size, batch_size)\n",
    "        self.batch_size = batch_size\n",
    "        self.epsilon = max_epsilon\n",
    "        self.epsilon_decay = epsilon_decay\n",
    "        self.seed = seed\n",
    "        self.max_epsilon = max_epsilon\n",
    "        self.min_epsilon = min_epsilon\n",
    "        self.target_update = target_update\n",
    "        self.gamma = gamma\n",
    "        \n",
    "        # device: cpu / gpu\n",
    "        self.device = torch.device(\n",
    "            \"cuda\" if torch.cuda.is_available() else \"cpu\"\n",
    "        )\n",
    "        print(self.device)\n",
    "\n",
    "        # networks: dqn, dqn_target\n",
    "        self.dqn = Network(obs_dim, action_dim).to(self.device)\n",
    "        self.dqn_target = Network(obs_dim, action_dim).to(self.device)\n",
    "        self.dqn_target.load_state_dict(self.dqn.state_dict())\n",
    "        self.dqn_target.eval()\n",
    "        \n",
    "        # optimizer\n",
    "        self.optimizer = optim.Adam(self.dqn.parameters())\n",
    "\n",
    "        # transition to store in memory\n",
    "        self.transition = list()\n",
    "        \n",
    "        # mode: train / test\n",
    "        self.is_test = False\n",
    "\n",
    "    def select_action(self, state: np.ndarray) -> np.ndarray:\n",
    "        \"\"\"Select an action from the input state.\"\"\"\n",
    "        # epsilon greedy policy\n",
    "        if self.epsilon > np.random.random():\n",
    "            selected_action = self.env.action_space.sample()\n",
    "        else:\n",
    "            selected_action = self.dqn(\n",
    "                torch.FloatTensor(state).to(self.device)\n",
    "            ).argmax()\n",
    "            selected_action = selected_action.detach().cpu().numpy()\n",
    "        \n",
    "        if not self.is_test:\n",
    "            self.transition = [state, selected_action]\n",
    "        \n",
    "        return selected_action\n",
    "\n",
    "    def step(self, action: np.ndarray) -> Tuple[np.ndarray, np.float64, bool]:\n",
    "        \"\"\"Take an action and return the response of the env.\"\"\"\n",
    "        next_state, reward, terminated, truncated, _ = self.env.step(action)\n",
    "        done = terminated or truncated\n",
    "\n",
    "        if not self.is_test:\n",
    "            self.transition += [reward, next_state, done]\n",
    "            self.memory.store(*self.transition)\n",
    "    \n",
    "        return next_state, reward, done\n",
    "\n",
    "    def update_model(self) -> torch.Tensor:\n",
    "        \"\"\"Update the model by gradient descent.\"\"\"\n",
    "        samples = self.memory.sample_batch()\n",
    "\n",
    "        loss = self._compute_dqn_loss(samples)\n",
    "\n",
    "        self.optimizer.zero_grad()\n",
    "        loss.backward()\n",
    "        self.optimizer.step()\n",
    "\n",
    "        return loss.item()\n",
    "        \n",
    "    def train(self, num_frames: int, plotting_interval: int = 200):\n",
    "        \"\"\"Train the agent.\"\"\"\n",
    "        self.is_test = False\n",
    "        \n",
    "        state, _ = self.env.reset(seed=self.seed)\n",
    "        update_cnt = 0\n",
    "        epsilons = []\n",
    "        losses = []\n",
    "        scores = []\n",
    "        score = 0\n",
    "\n",
    "        for frame_idx in range(1, num_frames + 1):\n",
    "            action = self.select_action(state)\n",
    "            next_state, reward, done = self.step(action)\n",
    "\n",
    "            state = next_state\n",
    "            score += reward\n",
    "\n",
    "            # if episode ends\n",
    "            if done:\n",
    "                state, _ = self.env.reset(seed=self.seed)\n",
    "                scores.append(score)\n",
    "                score = 0\n",
    "\n",
    "            # if training is ready\n",
    "            if len(self.memory) >= self.batch_size:\n",
    "                loss = self.update_model()\n",
    "                losses.append(loss)\n",
    "                update_cnt += 1\n",
    "                \n",
    "                # linearly decrease epsilon\n",
    "                self.epsilon = max(\n",
    "                    self.min_epsilon, self.epsilon - (\n",
    "                        self.max_epsilon - self.min_epsilon\n",
    "                    ) * self.epsilon_decay\n",
    "                )\n",
    "                epsilons.append(self.epsilon)\n",
    "                \n",
    "                # if hard update is needed\n",
    "                if update_cnt % self.target_update == 0:\n",
    "                    self._target_hard_update()\n",
    "\n",
    "            # plotting\n",
    "            if frame_idx % plotting_interval == 0:\n",
    "                self._plot(frame_idx, scores, losses, epsilons)\n",
    "                \n",
    "        self.env.close()\n",
    "                \n",
    "    def test(self, video_folder: str) -> None:\n",
    "        \"\"\"Test the agent.\"\"\"\n",
    "        self.is_test = True\n",
    "        \n",
    "        # for recording a video\n",
    "        naive_env = self.env\n",
    "        self.env = gym.wrappers.RecordVideo(self.env, video_folder=video_folder)\n",
    "        \n",
    "        state, _ = self.env.reset(seed=self.seed)\n",
    "        done = False\n",
    "        score = 0\n",
    "        \n",
    "        while not done:\n",
    "            action = self.select_action(state)\n",
    "            next_state, reward, done = self.step(action)\n",
    "\n",
    "            state = next_state\n",
    "            score += reward\n",
    "        \n",
    "        print(\"score: \", score)\n",
    "        self.env.close()\n",
    "        \n",
    "        # reset\n",
    "        self.env = naive_env\n",
    "\n",
    "    def _compute_dqn_loss(self, samples: Dict[str, np.ndarray]) -> torch.Tensor:\n",
    "        \"\"\"Return dqn loss.\"\"\"\n",
    "        device = self.device  # for shortening the following lines\n",
    "        state = torch.FloatTensor(samples[\"obs\"]).to(device)\n",
    "        next_state = torch.FloatTensor(samples[\"next_obs\"]).to(device)\n",
    "        action = torch.LongTensor(samples[\"acts\"].reshape(-1, 1)).to(device)\n",
    "        reward = torch.FloatTensor(samples[\"rews\"].reshape(-1, 1)).to(device)\n",
    "        done = torch.FloatTensor(samples[\"done\"].reshape(-1, 1)).to(device)\n",
    "        \n",
    "        # G_t   = r + gamma * v(s_{t+1})  if state != Terminal\n",
    "        #       = r                       otherwise\n",
    "        curr_q_value = self.dqn(state).gather(1, action)\n",
    "        next_q_value = self.dqn_target(next_state).gather(  # Double DQN\n",
    "            1, self.dqn(next_state).argmax(dim=1, keepdim=True)\n",
    "        ).detach()\n",
    "        mask = 1 - done\n",
    "        target = (reward + self.gamma * next_q_value * mask).to(self.device)\n",
    "\n",
    "        # calculate dqn loss\n",
    "        loss = F.smooth_l1_loss(curr_q_value, target)\n",
    "\n",
    "        return loss\n",
    "    \n",
    "    def _target_hard_update(self):\n",
    "        \"\"\"Hard update: target <- local.\"\"\"\n",
    "        self.dqn_target.load_state_dict(self.dqn.state_dict())\n",
    "                \n",
    "    def _plot(\n",
    "        self, \n",
    "        frame_idx: int, \n",
    "        scores: List[float], \n",
    "        losses: List[float], \n",
    "        epsilons: List[float],\n",
    "    ):\n",
    "        \"\"\"Plot the training progresses.\"\"\"\n",
    "        clear_output(True)\n",
    "        plt.figure(figsize=(20, 5))\n",
    "        plt.subplot(131)\n",
    "        plt.title('frame %s. score: %s' % (frame_idx, np.mean(scores[-10:])))\n",
    "        plt.plot(scores)\n",
    "        plt.subplot(132)\n",
    "        plt.title('loss')\n",
    "        plt.plot(losses)\n",
    "        plt.subplot(133)\n",
    "        plt.title('epsilons')\n",
    "        plt.plot(epsilons)\n",
    "        plt.show()"
   ]
  },
  {
   "cell_type": "markdown",
   "metadata": {},
   "source": [
    "## Environment\n",
    "\n",
    "You can see the [code](https://github.com/Farama-Foundation/Gymnasium/blob/main/gymnasium/envs/classic_control/cartpole.py) and [configurations](https://github.com/Farama-Foundation/Gymnasium/blob/main/gymnasium/envs/classic_control/cartpole.py#L91) of CartPole-v1 from Farama Gymnasium's repository."
   ]
  },
  {
   "cell_type": "code",
   "execution_count": 6,
   "metadata": {},
   "outputs": [],
   "source": [
    "# environment\n",
    "env = gym.make(\"CartPole-v1\", max_episode_steps=200, render_mode=\"rgb_array\")"
   ]
  },
  {
   "cell_type": "markdown",
   "metadata": {},
   "source": [
    "## Set random seed"
   ]
  },
  {
   "cell_type": "code",
   "execution_count": 7,
   "metadata": {},
   "outputs": [],
   "source": [
    "seed = 777\n",
    "\n",
    "def seed_torch(seed):\n",
    "    torch.manual_seed(seed)\n",
    "    if torch.backends.cudnn.enabled:\n",
    "        torch.cuda.manual_seed(seed)\n",
    "        torch.backends.cudnn.benchmark = False\n",
    "        torch.backends.cudnn.deterministic = True\n",
    "\n",
    "np.random.seed(seed)\n",
    "seed_torch(seed)"
   ]
  },
  {
   "cell_type": "markdown",
   "metadata": {},
   "source": [
    "## Initialize"
   ]
  },
  {
   "cell_type": "code",
   "execution_count": 8,
   "metadata": {},
   "outputs": [
    {
     "name": "stdout",
     "output_type": "stream",
     "text": [
      "cpu\n"
     ]
    }
   ],
   "source": [
    "# parameters\n",
    "num_frames = 10000\n",
    "memory_size = 1000\n",
    "batch_size = 32\n",
    "target_update = 200\n",
    "epsilon_decay = 1 / 2000\n",
    "\n",
    "# train\n",
    "agent = DQNAgent(env, memory_size, batch_size, target_update, epsilon_decay, seed)"
   ]
  },
  {
   "cell_type": "markdown",
   "metadata": {},
   "source": [
    "## Train"
   ]
  },
  {
   "cell_type": "code",
   "execution_count": 9,
   "metadata": {},
   "outputs": [
    {
     "data": {
      "image/png": "[encoded data removed]",
      "text/plain": [
       "<Figure size 1440x360 with 3 Axes>"
      ]
     },
     "metadata": {
      "needs_background": "light"
     },
     "output_type": "display_data"
    }
   ],
   "source": [
    "agent.train(num_frames)"
   ]
  },
  {
   "cell_type": "markdown",
   "metadata": {},
   "source": [
    "## Test\n",
    "\n",
    "Run the trained agent (1 episode)."
   ]
  },
  {
   "cell_type": "code",
   "execution_count": 10,
   "metadata": {},
   "outputs": [
    {
     "name": "stdout",
     "output_type": "stream",
     "text": [
      "Moviepy - Building video /Users/jinwoo.park/Repositories/rainbow-is-all-you-need/videos/double_q/rl-video-episode-0.mp4.\n",
      "Moviepy - Writing video /Users/jinwoo.park/Repositories/rainbow-is-all-you-need/videos/double_q/rl-video-episode-0.mp4\n",
      "\n"
     ]
    },
    {
     "name": "stderr",
     "output_type": "stream",
     "text": [
      "                                                                                                               "
     ]
    },
    {
     "name": "stdout",
     "output_type": "stream",
     "text": [
      "Moviepy - Done !\n",
      "Moviepy - video ready /Users/jinwoo.park/Repositories/rainbow-is-all-you-need/videos/double_q/rl-video-episode-0.mp4\n",
      "score:  170.0\n"
     ]
    },
    {
     "name": "stderr",
     "output_type": "stream",
     "text": [
      "\r"
     ]
    }
   ],
   "source": [
    "video_folder=\"videos/double_q\"\n",
    "agent.test(video_folder=video_folder)"
   ]
  },
  {
   "cell_type": "markdown",
   "metadata": {},
   "source": [
    "## Render"
   ]
  },
  {
   "cell_type": "code",
   "execution_count": 11,
   "metadata": {},
   "outputs": [
    {
     "data": {
      "text/html": [
       "\n",
       "        <video width=\"320\" height=\"240\" alt=\"test\" controls>\n",
       "        <source src=\"data:video/mp4;base64,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\" type=\"video/mp4\"/>\n",
       "        </video>\n",
       "        "
      ],
      "text/plain": [
       "<IPython.core.display.HTML object>"
      ]
     },
     "metadata": {},
     "output_type": "display_data"
    },
    {
     "name": "stdout",
     "output_type": "stream",
     "text": [
      "Played: videos/double_q/rl-video-episode-0.mp4\n"
     ]
    }
   ],
   "source": [
    "import base64\n",
    "import glob\n",
    "import io\n",
    "import os\n",
    "\n",
    "from IPython.display import HTML, display\n",
    "\n",
    "\n",
    "def ipython_show_video(path: str) -> None:\n",
    "    \"\"\"Show a video at `path` within IPython Notebook.\"\"\"\n",
    "    if not os.path.isfile(path):\n",
    "        raise NameError(\"Cannot access: {}\".format(path))\n",
    "\n",
    "    video = io.open(path, \"r+b\").read()\n",
    "    encoded = base64.b64encode(video)\n",
    "\n",
    "    display(HTML(\n",
    "        data=\"\"\"\n",
    "        <video width=\"320\" height=\"240\" alt=\"test\" controls>\n",
    "        <source src=\"data:video/mp4;base64,{0}\" type=\"video/mp4\"/>\n",
    "        </video>\n",
    "        \"\"\".format(encoded.decode(\"ascii\"))\n",
    "    ))\n",
    "\n",
    "\n",
    "def show_latest_video(video_folder: str) -> str:\n",
    "    \"\"\"Show the most recently recorded video from video folder.\"\"\"\n",
    "    list_of_files = glob.glob(os.path.join(video_folder, \"*.mp4\"))\n",
    "    latest_file = max(list_of_files, key=os.path.getctime)\n",
    "    ipython_show_video(latest_file)\n",
    "    return latest_file\n",
    "\n",
    "\n",
    "latest_file = show_latest_video(video_folder=video_folder)\n",
    "print(\"Played:\", latest_file)"
   ]
  }
 ],
 "metadata": {
  "kernelspec": {
   "display_name": "rainbow-is-all-you-need",
   "language": "python",
   "name": "rainbow-is-all-you-need"
  },
  "language_info": {
   "codemirror_mode": {
    "name": "ipython",
    "version": 3
   },
   "file_extension": ".py",
   "mimetype": "text/x-python",
   "name": "python",
   "nbconvert_exporter": "python",
   "pygments_lexer": "ipython3",
   "version": "3.8.12"
  }
 },
 "nbformat": 4,
 "nbformat_minor": 4
}
